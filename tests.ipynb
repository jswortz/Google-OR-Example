{
 "cells": [
  {
   "cell_type": "code",
   "execution_count": 8,
   "metadata": {},
   "outputs": [],
   "source": [
    "from lib.uSexyCSV import getcsv\n",
    "from lib.clustaFun import clusters\n",
    "from lib.dataPrep import getData, empUp\n",
    "import os"
   ]
  },
  {
   "cell_type": "code",
   "execution_count": 9,
   "metadata": {},
   "outputs": [],
   "source": [
    "input_file = \"3.16.Data.csv\"\n",
    "nClusters = 55\n",
    "\n",
    "locations, labels, demands, cars, megaCluster, \\\n",
    "streetSide, streetName, start_times, end_times = getcsv(input_file)"
   ]
  },
  {
   "cell_type": "code",
   "execution_count": 10,
   "metadata": {},
   "outputs": [],
   "source": [
    "# locations, labels, cars, demands, megaCluster, streetName, streetSide\n",
    "kData = clusters(nClusters, locations, labels, demands, cars, megaCluster,streetName, streetSide)"
   ]
  },
  {
   "cell_type": "code",
   "execution_count": 11,
   "metadata": {},
   "outputs": [],
   "source": [
    "from datetime import datetime\n",
    "now = datetime.now()\n",
    "\n",
    "dataFolder = \"output\"\n",
    "filename = os.path.join(dataFolder, \"clusterFile\" + now.strftime(\"%Y-%m-%d %H:%M\") + \".csv\")"
   ]
  },
  {
   "cell_type": "code",
   "execution_count": 12,
   "metadata": {},
   "outputs": [
    {
     "name": "stdout",
     "output_type": "stream",
     "text": [
      "Starting cluster 0 of 55\n",
      "trying # of employees : 1\n"
     ]
    },
    {
     "ename": "AttributeError",
     "evalue": "'CreateDemandCallback' object has no attribute 'Demand'",
     "output_type": "error",
     "traceback": [
      "\u001b[0;31m---------------------------------------------------------------------------\u001b[0m",
      "\u001b[0;31mAttributeError\u001b[0m                            Traceback (most recent call last)",
      "\u001b[0;32m<ipython-input-12-32ba5488dda7>\u001b[0m in \u001b[0;36m<module>\u001b[0;34m()\u001b[0m\n\u001b[1;32m      2\u001b[0m \u001b[0;31m# k = nClusters\u001b[0m\u001b[0;34m\u001b[0m\u001b[0;34m\u001b[0m\u001b[0m\n\u001b[1;32m      3\u001b[0m     \u001b[0;32mprint\u001b[0m\u001b[0;34m(\u001b[0m\u001b[0;34m\"Starting cluster {} of {}\"\u001b[0m\u001b[0;34m.\u001b[0m\u001b[0mformat\u001b[0m\u001b[0;34m(\u001b[0m\u001b[0mk\u001b[0m\u001b[0;34m,\u001b[0m \u001b[0mnClusters\u001b[0m\u001b[0;34m)\u001b[0m\u001b[0;34m)\u001b[0m\u001b[0;34m\u001b[0m\u001b[0m\n\u001b[0;32m----> 4\u001b[0;31m     \u001b[0msolution\u001b[0m\u001b[0;34m,\u001b[0m \u001b[0mnoEmps\u001b[0m \u001b[0;34m=\u001b[0m \u001b[0mempUp\u001b[0m\u001b[0;34m(\u001b[0m\u001b[0mkData\u001b[0m\u001b[0;34m,\u001b[0m \u001b[0mk\u001b[0m \u001b[0;34m,\u001b[0m\u001b[0mnClusters\u001b[0m\u001b[0;34m)\u001b[0m\u001b[0;34m\u001b[0m\u001b[0m\n\u001b[0m\u001b[1;32m      5\u001b[0m     \u001b[0mkData\u001b[0m\u001b[0;34m[\u001b[0m\u001b[0mk\u001b[0m\u001b[0;34m]\u001b[0m\u001b[0;34m.\u001b[0m\u001b[0mupdate\u001b[0m\u001b[0;34m(\u001b[0m\u001b[0;34m{\u001b[0m\u001b[0;34m'solution'\u001b[0m\u001b[0;34m:\u001b[0m \u001b[0msolution\u001b[0m\u001b[0;34m,\u001b[0m \u001b[0;34m'empsNeeded'\u001b[0m\u001b[0;34m:\u001b[0m \u001b[0mnoEmps\u001b[0m\u001b[0;34m}\u001b[0m\u001b[0;34m)\u001b[0m\u001b[0;34m\u001b[0m\u001b[0m\n",
      "\u001b[0;32m/Users/jwortz/CPM_Project/lib/dataPrep.pyc\u001b[0m in \u001b[0;36mempUp\u001b[0;34m(kData, cluster, nClusters, maxi)\u001b[0m\n\u001b[1;32m     47\u001b[0m             \u001b[0mdepot\u001b[0m \u001b[0;34m=\u001b[0m \u001b[0mdepot\u001b[0m\u001b[0;34m,\u001b[0m \u001b[0mtime_per_car_unit\u001b[0m\u001b[0;34m=\u001b[0m\u001b[0;36m1\u001b[0m\u001b[0;34m*\u001b[0m\u001b[0;36m60\u001b[0m\u001b[0;34m,\u001b[0m \u001b[0mlabs\u001b[0m\u001b[0;34m=\u001b[0m\u001b[0mlabs\u001b[0m\u001b[0;34m,\u001b[0m \u001b[0mcars\u001b[0m\u001b[0;34m=\u001b[0m\u001b[0mca\u001b[0m\u001b[0;34m,\u001b[0m \u001b[0mblockOverhead\u001b[0m \u001b[0;34m=\u001b[0m \u001b[0;36m2\u001b[0m \u001b[0;34m*\u001b[0m \u001b[0;36m60\u001b[0m\u001b[0;34m,\u001b[0m\u001b[0;31m \u001b[0m\u001b[0;31m\\\u001b[0m\u001b[0;34m\u001b[0m\u001b[0m\n\u001b[1;32m     48\u001b[0m              \u001b[0mstreet_crossing_penalty\u001b[0m \u001b[0;34m=\u001b[0m \u001b[0;36m60\u001b[0m\u001b[0;34m,\u001b[0m \u001b[0mstreet_name\u001b[0m\u001b[0;34m=\u001b[0m\u001b[0mstreet_name\u001b[0m\u001b[0;34m,\u001b[0m \u001b[0mstreet_side\u001b[0m\u001b[0;34m=\u001b[0m\u001b[0mstreet_side\u001b[0m\u001b[0;34m,\u001b[0m\u001b[0;31m \u001b[0m\u001b[0;31m\\\u001b[0m\u001b[0;34m\u001b[0m\u001b[0m\n\u001b[0;32m---> 49\u001b[0;31m              distance_constraint = 20922, blockSizeX = int(0.3048 * 600), blockSizeY = int(0.3048 * 600))\n\u001b[0m\u001b[1;32m     50\u001b[0m         \u001b[0;31m#except:\u001b[0m\u001b[0;34m\u001b[0m\u001b[0;34m\u001b[0m\u001b[0m\n\u001b[1;32m     51\u001b[0m             \u001b[0;31m# pass\u001b[0m\u001b[0;34m\u001b[0m\u001b[0;34m\u001b[0m\u001b[0m\n",
      "\u001b[0;32m/Users/jwortz/CPM_Project/lib/parktimizer.py\u001b[0m in \u001b[0;36mparktimize\u001b[0;34m(locations, demands, start_times, end_times, num_vehicles, search_time_limit, horizon, time_per_demand_unit, speed, depot, time_per_car_unit, labs, cars, blockOverhead, street_crossing_penalty, street_name, street_side, distance_constraint, blockSizeX, blockSizeY, distanceCrossingPenalty, VehicleCapacity)\u001b[0m\n\u001b[1;32m    268\u001b[0m         \u001b[0mrouting\u001b[0m\u001b[0;34m.\u001b[0m\u001b[0mSetArcCostEvaluatorOfAllVehicles\u001b[0m\u001b[0;34m(\u001b[0m\u001b[0mdist_callback\u001b[0m\u001b[0;34m)\u001b[0m\u001b[0;34m\u001b[0m\u001b[0m\n\u001b[1;32m    269\u001b[0m         \u001b[0mdemands_at_locations\u001b[0m \u001b[0;34m=\u001b[0m \u001b[0mCreateDemandCallback\u001b[0m\u001b[0;34m(\u001b[0m\u001b[0mdemands\u001b[0m\u001b[0;34m)\u001b[0m\u001b[0;34m\u001b[0m\u001b[0m\n\u001b[0;32m--> 270\u001b[0;31m         \u001b[0mdemands_callback\u001b[0m \u001b[0;34m=\u001b[0m \u001b[0mdemands_at_locations\u001b[0m\u001b[0;34m.\u001b[0m\u001b[0mDemand\u001b[0m\u001b[0;34m\u001b[0m\u001b[0m\n\u001b[0m\u001b[1;32m    271\u001b[0m \u001b[0;34m\u001b[0m\u001b[0m\n\u001b[1;32m    272\u001b[0m \u001b[0;34m\u001b[0m\u001b[0m\n",
      "\u001b[0;31mAttributeError\u001b[0m: 'CreateDemandCallback' object has no attribute 'Demand'"
     ]
    }
   ],
   "source": [
    "for k in range(nClusters + 1):\n",
    "# k = nClusters\n",
    "    print(\"Starting cluster {} of {}\".format(k, nClusters))\n",
    "    solution, noEmps = empUp(kData, k ,nClusters)\n",
    "    kData[k].update({'solution': solution, 'empsNeeded': noEmps})"
   ]
  },
  {
   "cell_type": "code",
   "execution_count": null,
   "metadata": {
    "collapsed": true
   },
   "outputs": [],
   "source": []
  },
  {
   "cell_type": "code",
   "execution_count": null,
   "metadata": {
    "collapsed": true
   },
   "outputs": [],
   "source": []
  },
  {
   "cell_type": "code",
   "execution_count": null,
   "metadata": {
    "collapsed": true
   },
   "outputs": [],
   "source": []
  },
  {
   "cell_type": "code",
   "execution_count": null,
   "metadata": {
    "collapsed": true
   },
   "outputs": [],
   "source": []
  }
 ],
 "metadata": {
  "kernelspec": {
   "display_name": "Python 2",
   "language": "python",
   "name": "python2"
  },
  "language_info": {
   "codemirror_mode": {
    "name": "ipython",
    "version": 2
   },
   "file_extension": ".py",
   "mimetype": "text/x-python",
   "name": "python",
   "nbconvert_exporter": "python",
   "pygments_lexer": "ipython2",
   "version": "2.7.14"
  }
 },
 "nbformat": 4,
 "nbformat_minor": 2
}
