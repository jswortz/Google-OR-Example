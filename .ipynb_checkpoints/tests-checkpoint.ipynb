{
 "cells": [
  {
   "cell_type": "code",
   "execution_count": 1,
   "metadata": {},
   "outputs": [],
   "source": [
    "from lib.CSVImporter import getcsv\n",
    "from lib.clustaFun import clusters\n",
    "from lib.dataPrep import getData, empUp, dataExport\n",
    "from lib.parktimizer import parktimize\n",
    "import os"
   ]
  },
  {
   "cell_type": "code",
   "execution_count": 2,
   "metadata": {},
   "outputs": [],
   "source": [
    "input_file = 'Input_Model_040318_newMC2_noDriving_CLZy_remSEblocks.csv'\n",
    "nClusters = 55\n",
    "\n",
    "locations, labels, demands, cars, megaCluster, streetSide, streetName, \\\n",
    "start_times, end_times, carTime = getcsv(input_file)"
   ]
  },
  {
   "cell_type": "code",
   "execution_count": 3,
   "metadata": {},
   "outputs": [],
   "source": [
    "# locations, labels, cars, demands, megaCluster, streetName, streetSide\n",
    "kData = clusters(nClusters, locations, labels, demands, cars, megaCluster,streetName, streetSide, carTime, nClusters)"
   ]
  },
  {
   "cell_type": "code",
   "execution_count": null,
   "metadata": {},
   "outputs": [
    {
     "name": "stdout",
     "output_type": "stream",
     "text": [
      "Starting cluster 0 of 55\n",
      "trying # of employees : 1\n",
      "No solution found.\n",
      "trying # of employees : 2\n"
     ]
    }
   ],
   "source": [
    "###NEIGHBORHOOD RUN\n",
    "for k in range(nClusters):\n",
    "# k = nClusters\n",
    "    print(\"Starting cluster {} of {}\".format(k, nClusters))\n",
    "    loc, dem, ca, labs, depot, start_times, end_times, street_name, street_side, cct = getData(k, kData, nClusters)\n",
    "    solution, noEmps = empUp(loc, dem, start_times, end_times, depot, cct, labs, ca, street_name, street_side)\n",
    "    kData[k].update({'solution': solution, 'empsNeeded': noEmps})\n",
    "\n",
    "print(\"RUNNING MEGACLUSTER\")\n",
    "###MEGACLUSTER RUN   \n",
    "k = nClusters\n",
    "loc, dem, ca, labs, depot, start_times, end_times, street_name, street_side, cct = getData(k, kData, nClusters)\n",
    "solution, noEmps = empUp(loc, dem, start_times, end_times, depot, cct, labs, ca, street_name, street_side)\n",
    "kData[k].update({'solution': solution, 'empsNeeded': noEmps})"
   ]
  },
  {
   "cell_type": "code",
   "execution_count": null,
   "metadata": {},
   "outputs": [],
   "source": [
    "dataExport(kData, nClusters, \"{}_withMegaCluster\".format(nClusters))"
   ]
  },
  {
   "cell_type": "code",
   "execution_count": null,
   "metadata": {
    "collapsed": true
   },
   "outputs": [],
   "source": []
  },
  {
   "cell_type": "code",
   "execution_count": null,
   "metadata": {
    "collapsed": true
   },
   "outputs": [],
   "source": []
  },
  {
   "cell_type": "code",
   "execution_count": null,
   "metadata": {
    "collapsed": true
   },
   "outputs": [],
   "source": []
  },
  {
   "cell_type": "code",
   "execution_count": null,
   "metadata": {
    "collapsed": true
   },
   "outputs": [],
   "source": []
  }
 ],
 "metadata": {
  "kernelspec": {
   "display_name": "Python 2",
   "language": "python",
   "name": "python2"
  },
  "language_info": {
   "codemirror_mode": {
    "name": "ipython",
    "version": 2
   },
   "file_extension": ".py",
   "mimetype": "text/x-python",
   "name": "python",
   "nbconvert_exporter": "python",
   "pygments_lexer": "ipython2",
   "version": "2.7.14"
  }
 },
 "nbformat": 4,
 "nbformat_minor": 2
}
