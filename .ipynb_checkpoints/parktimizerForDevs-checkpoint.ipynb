{
 "cells": [
  {
   "cell_type": "code",
   "execution_count": null,
   "metadata": {},
   "outputs": [],
   "source": [
    "from parktimizerExec import main\n",
    "\n",
    "main(inputFile = 'Input_Model_040318_newMC2_noDriving_CLZy_remSEblocks.csv',outputName = \"TEST\", nClusters = 55, time_horizon = 2.2 * 3600,\\\n",
    "            time_per_ticket = 2*60, walk_speed = 1.34, term_check = 120, cross_time = 60, walkingCap = int(1609.344 *12), \\\n",
    "            blockX = int(0.3048 * 660), blockY = int(0.3048 * 330), \\\n",
    "            MCtime_horizon = 2.2 * 3600,\\\n",
    "            MCtime_per_ticket = 2*60, MCwalk_speed = 1.34, MCterm_check = 120, MCcross_time = 10,\\\n",
    "             MCwalkingCap = int(1609.344 *12), \\\n",
    "            MCblockX = int(0.3048 * 600), MCblockY = int(0.3048 * 300))"
   ]
  },
  {
   "cell_type": "code",
   "execution_count": null,
   "metadata": {
    "collapsed": true
   },
   "outputs": [],
   "source": []
  }
 ],
 "metadata": {
  "kernelspec": {
   "display_name": "Python 2",
   "language": "python",
   "name": "python2"
  },
  "language_info": {
   "codemirror_mode": {
    "name": "ipython",
    "version": 2
   },
   "file_extension": ".py",
   "mimetype": "text/x-python",
   "name": "python",
   "nbconvert_exporter": "python",
   "pygments_lexer": "ipython2",
   "version": "2.7.14"
  }
 },
 "nbformat": 4,
 "nbformat_minor": 2
}
